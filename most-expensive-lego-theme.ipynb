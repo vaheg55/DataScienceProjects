{
 "cells": [
  {
   "cell_type": "markdown",
   "metadata": {},
   "source": [
    "<h1>Most Expensive Lego Theme</h1>\n",
    "<h3>Goals for this project:</h3>\n",
    "<ul><li>Let's scrape lego.com to find the Lego theme with the most expensive products.</li>\n",
    "<li>We can't use the well-worn Beautiful Soup since Lego.com has a lot of Javascript components that need to be rendered. Therefore, we need to scrape the fully rendered webpage using Selenium.</li></ul>"
   ]
  },
  {
   "cell_type": "code",
   "execution_count": null,
   "metadata": {},
   "outputs": [],
   "source": [
    "import selenium\n",
    "from selenium import webdriver\n",
    "from selenium.webdriver.common.by import By\n",
    "from selenium.webdriver.support.ui import WebDriverWait\n",
    "from selenium.webdriver.support import expected_conditions as EC\n",
    "\n",
    "from tqdm import tqdm"
   ]
  },
  {
   "cell_type": "code",
   "execution_count": null,
   "metadata": {},
   "outputs": [],
   "source": [
    "driver = webdriver.Chrome()\n",
    "driver.get(\"https://www.lego.com/en-us/themes\")\n",
    "\n",
    "# grab all of the Lego themes on the page\n",
    "themes = driver.find_elements(By.XPATH, \n",
    "                              \"/html/body/div[1]/div/main/div/div[2]/div/div/section/ul/li\")\n",
    "\n",
    "# get links to follow for each of the themes\n",
    "links = []\n",
    "for theme in themes:\n",
    "    links.append(theme.find_element(By.XPATH, \"./article/a\").get_attribute(\"href\"))\n",
    "\n",
    "links = links[:-1] # the last theme has no products"
   ]
  },
  {
   "cell_type": "markdown",
   "metadata": {},
   "source": [
    "<ul><li>Make a function for grabbing all of the prices of the products that belong in a Lego theme, given the theme's url.</li></ul>"
   ]
  },
  {
   "cell_type": "code",
   "execution_count": null,
   "metadata": {},
   "outputs": [],
   "source": [
    "def getPrices(url, div_location = 5):\n",
    "    driver = webdriver.Chrome()\n",
    "    driver.get(url)\n",
    "    prices = driver.find_elements(By.XPATH, \n",
    "                        f\"/html/body/div[1]/div/main/div/div[{div_location}]/div/div/section/div/div[2]/div/ul/li/div/div[3]/div[1]/div[3]/div/span[1]\")\n",
    "    prices = [float(price.get_attribute(\"textContent\").lstrip(\"Price\\n$\")) for price in prices]\n",
    "    driver.close()\n",
    "    return prices"
   ]
  },
  {
   "cell_type": "markdown",
   "metadata": {},
   "source": [
    "<ul><li>Make another function for updating our running list of prices by adding the data for one Lego theme.</li></ul>"
   ]
  },
  {
   "cell_type": "code",
   "execution_count": 62,
   "metadata": {
    "scrolled": true
   },
   "outputs": [
    {
     "name": "stderr",
     "output_type": "stream",
     "text": [
      "  3%|▎         | 1/39 [00:23<14:53, 23.51s/it]"
     ]
    },
    {
     "name": "stdout",
     "output_type": "stream",
     "text": [
      "{'theme': 'architecture', 'prices': [129.99, 59.99, 49.99, 99.99, 119.99, 59.99, 39.99, 119.99, 59.99]}\n"
     ]
    },
    {
     "name": "stderr",
     "output_type": "stream",
     "text": [
      "  5%|▌         | 2/39 [01:09<22:29, 36.47s/it]"
     ]
    },
    {
     "name": "stdout",
     "output_type": "stream",
     "text": [
      "{'theme': 'lego-batman-sets', 'prices': [269.99, 99.99, 119.99, 5.99, 29.99, 14.99, 9.99, 39.99, 5.99, 199.99, 79.99, 5.99, 29.99, 21.99, 59.99, 59.99, 29.99]}\n"
     ]
    },
    {
     "name": "stderr",
     "output_type": "stream",
     "text": [
      "  8%|▊         | 3/39 [01:34<18:46, 31.29s/it]"
     ]
    },
    {
     "name": "stdout",
     "output_type": "stream",
     "text": [
      "{'theme': 'brickheadz', 'prices': [19.99, 24.99, 19.99, 24.99, 9.99, 9.99, 19.99, 14.99, 39.99, 9.99, 19.99, 19.99, 49.99, 14.99, 14.99, 9.99, 19.99, 19.99]}\n"
     ]
    },
    {
     "name": "stderr",
     "output_type": "stream",
     "text": [
      " 10%|█         | 4/39 [02:03<17:49, 30.56s/it]"
     ]
    },
    {
     "name": "stdout",
     "output_type": "stream",
     "text": [
      "{'theme': 'brick-sketches', 'prices': [16.99, 16.99, 16.99, 16.99]}\n"
     ]
    },
    {
     "name": "stderr",
     "output_type": "stream",
     "text": [
      " 13%|█▎        | 5/39 [02:47<20:07, 35.52s/it]"
     ]
    },
    {
     "name": "stdout",
     "output_type": "stream",
     "text": [
      "{'theme': 'city', 'prices': [39.99, 19.99, 99.99, 29.99, 29.99, 9.99, 69.99, 199.99, 9.99, 129.99, 9.99, 59.99, 29.99, 64.99, 99.99, 39.99, 189.99]}\n"
     ]
    },
    {
     "name": "stderr",
     "output_type": "stream",
     "text": [
      " 15%|█▌        | 6/39 [03:34<21:35, 39.25s/it]"
     ]
    },
    {
     "name": "stdout",
     "output_type": "stream",
     "text": [
      "{'theme': 'classic', 'prices': [99.99, 49.99, 69.99, 34.99, 29.99, 9.99, 14.99, 59.99, 7.99, 7.99, 19.99, 59.99, 7.99, 49.99, 39.99, 19.99, 19.99, 59.99]}\n"
     ]
    },
    {
     "name": "stderr",
     "output_type": "stream",
     "text": [
      " 18%|█▊        | 7/39 [04:01<18:52, 35.38s/it]"
     ]
    },
    {
     "name": "stdout",
     "output_type": "stream",
     "text": [
      "{'theme': 'creator-3-in-1', 'prices': [99.99, 49.99, 29.99, 19.99, 119.99, 44.99, 119.99, 14.99, 9.99, 59.99, 14.99, 19.99, 19.99, 19.99, 49.99, 9.99, 49.99, 14.99]}\n"
     ]
    },
    {
     "name": "stderr",
     "output_type": "stream",
     "text": [
      " 21%|██        | 8/39 [04:24<16:10, 31.31s/it]"
     ]
    },
    {
     "name": "stdout",
     "output_type": "stream",
     "text": [
      "{'theme': 'creator-expert', 'prices': [199.99, 679.99, 229.99, 299.99, 199.99, 199.99, 49.99, 549.99, 49.99, 169.99, 179.99, 99.99, 99.99, 239.99, 99.99, 59.99, 169.99]}\n"
     ]
    },
    {
     "name": "stderr",
     "output_type": "stream",
     "text": [
      " 23%|██▎       | 9/39 [05:09<17:48, 35.62s/it]"
     ]
    },
    {
     "name": "stdout",
     "output_type": "stream",
     "text": [
      "{'theme': 'dc', 'prices': [269.99, 99.99, 119.99, 14.99, 21.99, 29.99, 199.99, 39.99, 5.99, 29.99, 79.99, 59.99, 5.99, 5.99, 29.99, 59.99]}\n"
     ]
    },
    {
     "name": "stderr",
     "output_type": "stream",
     "text": [
      " 26%|██▌       | 10/39 [05:54<18:36, 38.50s/it]"
     ]
    },
    {
     "name": "stdout",
     "output_type": "stream",
     "text": [
      "{'theme': 'disney', 'prices': [99.99, 39.99, 49.99, 99.99, 34.99, 9.99, 14.99, 9.99, 39.99, 99.99, 16.99, 64.99, 89.99, 44.99, 29.99, 349.99, 16.99, 44.99]}\n"
     ]
    },
    {
     "name": "stderr",
     "output_type": "stream",
     "text": [
      " 28%|██▊       | 11/39 [06:40<19:03, 40.84s/it]"
     ]
    },
    {
     "name": "stdout",
     "output_type": "stream",
     "text": [
      "{'theme': 'mickey-mouse', 'prices': [54.99, 24.99, 5.99, 44.99, 34.99, 29.99, 39.99, 19.99, 19.99, 9.99, 34.99, 5.99]}\n"
     ]
    },
    {
     "name": "stderr",
     "output_type": "stream",
     "text": [
      " 31%|███       | 12/39 [07:28<19:22, 43.05s/it]"
     ]
    },
    {
     "name": "stdout",
     "output_type": "stream",
     "text": [
      "{'theme': 'lightyear', 'prices': [49.99, 34.99, 19.99]}\n"
     ]
    },
    {
     "name": "stderr",
     "output_type": "stream",
     "text": [
      " 33%|███▎      | 13/39 [08:13<18:51, 43.53s/it]"
     ]
    },
    {
     "name": "stdout",
     "output_type": "stream",
     "text": [
      "{'theme': 'dots', 'prices': [64.99, 39.99, 3.99, 29.99, 34.99, 19.99, 5.99, 24.99, 12.99, 34.99, 49.99, 5.99, 19.99, 12.99, 19.99, 34.99, 5.99]}\n"
     ]
    },
    {
     "name": "stderr",
     "output_type": "stream",
     "text": [
      " 36%|███▌      | 14/39 [08:58<18:18, 43.94s/it]"
     ]
    },
    {
     "name": "stdout",
     "output_type": "stream",
     "text": [
      "{'theme': 'duplo', 'prices': [129.99, 29.99, 69.99, 54.99, 49.99, 19.99, 34.99, 64.99, 29.99, 19.99, 64.99, 19.99, 44.99, 24.99, 49.99, 19.99, 49.99]}\n"
     ]
    },
    {
     "name": "stderr",
     "output_type": "stream",
     "text": [
      " 38%|███▊      | 15/39 [09:44<17:50, 44.62s/it]"
     ]
    },
    {
     "name": "stdout",
     "output_type": "stream",
     "text": [
      "{'theme': 'friends', 'prices': [159.99, 69.99, 19.99, 59.99, 79.99, 29.99, 9.99, 99.99, 19.99, 89.99, 99.99, 69.99, 64.99, 89.99, 69.99, 9.99, 19.99]}\n"
     ]
    },
    {
     "name": "stderr",
     "output_type": "stream",
     "text": [
      " 41%|████      | 16/39 [10:29<17:11, 44.85s/it]"
     ]
    },
    {
     "name": "stdout",
     "output_type": "stream",
     "text": [
      "{'theme': 'disney-frozen-2', 'prices': [9.99, 19.99, 44.99, 29.99, 219.99, 5.99, 49.99, 9.99, 5.99, 39.99, 29.99, 19.99]}\n"
     ]
    },
    {
     "name": "stderr",
     "output_type": "stream",
     "text": [
      " 44%|████▎     | 17/39 [10:53<14:08, 38.55s/it]"
     ]
    },
    {
     "name": "stdout",
     "output_type": "stream",
     "text": [
      "{'theme': 'harry-potter', 'prices': [469.99, 499.99, 79.99, 39.99, 24.99, 44.99, 49.99, 49.99, 89.99, 34.99, 119.99, 149.99, 34.99, 24.99, 89.99, 34.99, 34.99]}\n"
     ]
    },
    {
     "name": "stderr",
     "output_type": "stream",
     "text": [
      " 46%|████▌     | 18/39 [11:16<11:47, 33.71s/it]"
     ]
    },
    {
     "name": "stdout",
     "output_type": "stream",
     "text": [
      "{'theme': 'ideas', 'prices': [299.99, 169.99, 119.99, 299.99, 249.99, 179.99, 229.99, 249.99, 99.99, 99.99, 119.99, 249.99, 399.99, 79.99, 179.99, 119.99, 69.99]}\n"
     ]
    },
    {
     "name": "stderr",
     "output_type": "stream",
     "text": [
      " 49%|████▊     | 19/39 [12:01<12:26, 37.32s/it]"
     ]
    },
    {
     "name": "stdout",
     "output_type": "stream",
     "text": [
      "{'theme': 'jurassic-world', 'prices': [99.99, 139.99, 44.99, 49.99, 99.99, 19.99, 34.99, 39.99, 15.99, 49.99, 79.99, 44.99, 44.99, 16.99, 19.99, 29.99, 29.99]}\n"
     ]
    },
    {
     "name": "stderr",
     "output_type": "stream",
     "text": [
      " 51%|█████▏    | 20/39 [12:47<12:36, 39.83s/it]"
     ]
    },
    {
     "name": "stdout",
     "output_type": "stream",
     "text": [
      "{'theme': 'art', 'prices': [79.99, 149.99, 99.99, 119.99, 249.99, 17.99, 17.99, 119.99, 119.99, 119.99, 119.99]}\n"
     ]
    },
    {
     "name": "stderr",
     "output_type": "stream",
     "text": [
      " 54%|█████▍    | 21/39 [13:32<12:25, 41.43s/it]"
     ]
    },
    {
     "name": "stdout",
     "output_type": "stream",
     "text": [
      "{'theme': 'avatar', 'prices': [149.99, 99.99, 59.99, 79.99, 24.99, 59.99, 34.99, 99.99, 44.99, 19.99]}\n"
     ]
    },
    {
     "name": "stderr",
     "output_type": "stream",
     "text": [
      " 56%|█████▋    | 22/39 [14:18<12:07, 42.79s/it]"
     ]
    },
    {
     "name": "stdout",
     "output_type": "stream",
     "text": [
      "{'theme': 'lego-education', 'prices': [133.95, 133.95, 214.95, 133.95, 209.95, 399.95, 159.95, 94.95, 69.95, 319.95, 239.95, 239.95, 169.95, 284.95]}\n"
     ]
    },
    {
     "name": "stderr",
     "output_type": "stream",
     "text": [
      " 59%|█████▉    | 23/39 [15:03<11:33, 43.37s/it]"
     ]
    },
    {
     "name": "stdout",
     "output_type": "stream",
     "text": [
      "{'theme': 'lego-icons', 'prices': [629.99, 229.99, 679.99, 59.99, 399.99, 399.99, 49.99, 99.99, 169.99, 49.99, 49.99, 229.99, 49.99, 549.99, 239.99, 59.99, 199.99]}\n"
     ]
    },
    {
     "name": "stderr",
     "output_type": "stream",
     "text": [
      " 62%|██████▏   | 24/39 [15:48<10:56, 43.76s/it]"
     ]
    },
    {
     "name": "stdout",
     "output_type": "stream",
     "text": [
      "{'theme': 'super-mario', 'prices': [269.99, 5.99, 59.99, 49.99, 24.99, 29.99, 64.99, 14.99, 34.99, 59.99, 9.99, 199.99, 129.99, 59.99, 269.99, 79.99, 59.99]}\n"
     ]
    },
    {
     "name": "stderr",
     "output_type": "stream",
     "text": [
      " 64%|██████▍   | 25/39 [16:33<10:21, 44.37s/it]"
     ]
    },
    {
     "name": "stdout",
     "output_type": "stream",
     "text": [
      "{'theme': 'lord-of-the-rings', 'prices': [19.99, 14.99, 19.99]}\n"
     ]
    },
    {
     "name": "stderr",
     "output_type": "stream",
     "text": [
      " 67%|██████▋   | 26/39 [16:56<08:12, 37.92s/it]"
     ]
    },
    {
     "name": "stdout",
     "output_type": "stream",
     "text": [
      "{'theme': 'marvel', 'prices': [249.99, 54.99, 99.99, 49.99, 14.99, 24.99, 34.99, 14.99, 99.99, 549.99, 349.99, 349.99, 89.99, 69.99, 159.99, 24.99, 14.99]}\n"
     ]
    },
    {
     "name": "stderr",
     "output_type": "stream",
     "text": [
      " 69%|██████▉   | 27/39 [17:42<08:04, 40.38s/it]"
     ]
    },
    {
     "name": "stdout",
     "output_type": "stream",
     "text": [
      "{'theme': 'mindstorms', 'prices': [359.99]}\n"
     ]
    },
    {
     "name": "stderr",
     "output_type": "stream",
     "text": [
      " 72%|███████▏  | 28/39 [18:28<07:41, 41.95s/it]"
     ]
    },
    {
     "name": "stdout",
     "output_type": "stream",
     "text": [
      "{'theme': 'minecraft', 'prices': [64.99, 44.99, 34.99, 24.99, 9.99, 129.99, 49.99, 24.99, 49.99, 99.99, 19.99, 24.99, 19.99, 9.99, 29.99, 44.99, 34.99, 34.99]}\n"
     ]
    },
    {
     "name": "stderr",
     "output_type": "stream",
     "text": [
      " 74%|███████▍  | 29/39 [19:23<07:38, 45.89s/it]"
     ]
    },
    {
     "name": "stdout",
     "output_type": "stream",
     "text": [
      "{'theme': 'minifigures', 'prices': [4.99, 29.94, 30.0, 14.99, 4.99, 34.99, 14.99, 29.94, 10.99, 19.99, 19.99, 24.99, 4.99, 34.99, 5.99, 15.99, 14.99, 9.99]}\n"
     ]
    },
    {
     "name": "stderr",
     "output_type": "stream",
     "text": [
      " 77%|███████▋  | 30/39 [19:51<06:04, 40.46s/it]"
     ]
    },
    {
     "name": "stdout",
     "output_type": "stream",
     "text": [
      "{'theme': 'minions', 'prices': [19.99, 49.99, 5.99, 39.99, 29.99, 19.99, 5.99]}\n"
     ]
    },
    {
     "name": "stderr",
     "output_type": "stream",
     "text": [
      " 79%|███████▉  | 31/39 [20:36<05:33, 41.74s/it]"
     ]
    },
    {
     "name": "stdout",
     "output_type": "stream",
     "text": [
      "{'theme': 'monkie-kid', 'prices': [159.99, 189.99, 19.99, 159.99, 79.99, 139.99, 19.99, 79.99, 39.99, 99.99, 59.99, 129.99, 89.99, 69.99, 129.99, 149.99, 169.99]}\n"
     ]
    },
    {
     "name": "stderr",
     "output_type": "stream",
     "text": [
      " 82%|████████▏ | 32/39 [21:21<05:00, 42.90s/it]"
     ]
    },
    {
     "name": "stdout",
     "output_type": "stream",
     "text": [
      "{'theme': 'ninjago', 'prices': [79.99, 99.99, 99.99, 349.99, 34.99, 19.99, 19.99, 149.99, 9.99, 59.99, 44.99, 64.99, 119.99, 9.99, 139.99, 79.99, 34.99]}\n"
     ]
    },
    {
     "name": "stderr",
     "output_type": "stream",
     "text": [
      " 85%|████████▍ | 33/39 [22:07<04:23, 43.86s/it]"
     ]
    },
    {
     "name": "stdout",
     "output_type": "stream",
     "text": [
      "{'theme': 'powered-up', 'prices': [399.99, 34.99, 249.99, 22.99, 79.99, 13.99, 9.99, 39.99, 299.99, 16.99, 13.99, 89.99, 39.99, 49.99, 159.99, 39.99]}\n"
     ]
    },
    {
     "name": "stderr",
     "output_type": "stream",
     "text": [
      " 87%|████████▋ | 34/39 [22:53<03:42, 44.45s/it]"
     ]
    },
    {
     "name": "stdout",
     "output_type": "stream",
     "text": [
      "{'theme': 'serious-play', 'prices': [36.99, 789.99, 754.99, 484.99]}\n"
     ]
    },
    {
     "name": "stderr",
     "output_type": "stream",
     "text": [
      " 90%|████████▉ | 35/39 [23:39<02:59, 44.77s/it]"
     ]
    },
    {
     "name": "stdout",
     "output_type": "stream",
     "text": [
      "{'theme': 'speed-champions', 'prices': [24.99, 19.99, 19.99, 34.99, 34.99, 24.99, 24.99, 24.99, 19.99, 19.99, 19.99, 19.99, 44.99, 49.99, 19.99, 29.99, 49.99, 19.99]}\n"
     ]
    },
    {
     "name": "stderr",
     "output_type": "stream",
     "text": [
      " 92%|█████████▏| 36/39 [24:23<02:13, 44.55s/it]"
     ]
    },
    {
     "name": "stdout",
     "output_type": "stream",
     "text": [
      "{'theme': 'lego-spider-man', 'prices': [349.99, 24.99, 16.99, 34.99, 24.99, 49.99, 9.99, 9.99, 14.99, 19.99, 69.99, 19.99, 5.99, 24.99, 19.99, 5.99, 19.99, 14.99]}\n"
     ]
    },
    {
     "name": "stderr",
     "output_type": "stream",
     "text": [
      " 95%|█████████▍| 37/39 [24:46<01:16, 38.13s/it]"
     ]
    },
    {
     "name": "stdout",
     "output_type": "stream",
     "text": [
      "{'theme': 'star-wars', 'prices': [19.99, 64.99, 849.99, 139.99, 849.99, 599.99, 9.99, 39.99, 239.99, 399.99, 69.99, 139.99, 59.99, 99.99, 44.99, 9.99, 14.99]}\n"
     ]
    },
    {
     "name": "stderr",
     "output_type": "stream",
     "text": [
      " 97%|█████████▋| 38/39 [25:30<00:40, 40.09s/it]"
     ]
    },
    {
     "name": "stdout",
     "output_type": "stream",
     "text": [
      "{'theme': 'technic', 'prices': [49.99, 449.99, 119.99, 199.99, 49.99, 449.99, 119.99, 12.99, 49.99, 209.99, 149.99, 49.99, 149.99, 199.99, 249.99, 99.99, 12.99]}\n"
     ]
    },
    {
     "name": "stderr",
     "output_type": "stream",
     "text": [
      "100%|██████████| 39/39 [26:15<00:00, 40.40s/it]"
     ]
    },
    {
     "name": "stdout",
     "output_type": "stream",
     "text": [
      "{'theme': 'vidiyo', 'prices': [19.99, 19.99, 19.99, 19.99, 19.99, 19.99]}\n"
     ]
    },
    {
     "name": "stderr",
     "output_type": "stream",
     "text": [
      "\n"
     ]
    }
   ],
   "source": [
    "def updatePrices(list_to_update, # running list of prices\n",
    "                 links, # list of URLs to check\n",
    "                 idx, # index of the desired URL in the list\n",
    "                 div_location = 5):\n",
    "    update = {'theme' : links[idx].split('/')[-1], # name of theme\n",
    "              'prices' : getPrices(links[idx], div_location)}\n",
    "    if update['prices'] != []:\n",
    "        print(update)\n",
    "        list_to_update.append(update)\n",
    "    else:\n",
    "        div_location -= 1 # the HTML tags might be set up differently on some pages\n",
    "        updatePrices(list_to_update, links, idx, div_location) # try again in this case\n",
    "\n",
    "prices = []\n",
    "for i in tqdm(range(len(links))):\n",
    "    updatePrices(prices, links, i)"
   ]
  },
  {
   "cell_type": "markdown",
   "metadata": {},
   "source": [
    "<h1>Data Analysis</h1>\n",
    "<h3>Notes:</h3>\n",
    "<ul><li>Okay, we have our dataset. Now we just need to run some metrics.</li><li>To stay organized, we should write the metrics to a Pandas DataFrame.</li></ul>"
   ]
  },
  {
   "cell_type": "code",
   "execution_count": 67,
   "metadata": {
    "scrolled": true
   },
   "outputs": [
    {
     "data": {
      "text/html": [
       "<div>\n",
       "<style scoped>\n",
       "    .dataframe tbody tr th:only-of-type {\n",
       "        vertical-align: middle;\n",
       "    }\n",
       "\n",
       "    .dataframe tbody tr th {\n",
       "        vertical-align: top;\n",
       "    }\n",
       "\n",
       "    .dataframe thead th {\n",
       "        text-align: right;\n",
       "    }\n",
       "</style>\n",
       "<table border=\"1\" class=\"dataframe\">\n",
       "  <thead>\n",
       "    <tr style=\"text-align: right;\">\n",
       "      <th></th>\n",
       "      <th>Mean</th>\n",
       "      <th>StdDev</th>\n",
       "      <th>Count</th>\n",
       "      <th>Max</th>\n",
       "      <th>Min</th>\n",
       "    </tr>\n",
       "  </thead>\n",
       "  <tbody>\n",
       "    <tr>\n",
       "      <th>architecture</th>\n",
       "      <td>82.212222</td>\n",
       "      <td>34.920545</td>\n",
       "      <td>9</td>\n",
       "      <td>129.99</td>\n",
       "      <td>39.99</td>\n",
       "    </tr>\n",
       "    <tr>\n",
       "      <th>lego-batman-sets</th>\n",
       "      <td>63.813529</td>\n",
       "      <td>73.683644</td>\n",
       "      <td>17</td>\n",
       "      <td>269.99</td>\n",
       "      <td>5.99</td>\n",
       "    </tr>\n",
       "    <tr>\n",
       "      <th>brickheadz</th>\n",
       "      <td>20.267778</td>\n",
       "      <td>10.357183</td>\n",
       "      <td>18</td>\n",
       "      <td>49.99</td>\n",
       "      <td>9.99</td>\n",
       "    </tr>\n",
       "    <tr>\n",
       "      <th>brick-sketches</th>\n",
       "      <td>16.990000</td>\n",
       "      <td>0.000000</td>\n",
       "      <td>4</td>\n",
       "      <td>16.99</td>\n",
       "      <td>16.99</td>\n",
       "    </tr>\n",
       "    <tr>\n",
       "      <th>city</th>\n",
       "      <td>66.754706</td>\n",
       "      <td>59.449064</td>\n",
       "      <td>17</td>\n",
       "      <td>199.99</td>\n",
       "      <td>9.99</td>\n",
       "    </tr>\n",
       "    <tr>\n",
       "      <th>classic</th>\n",
       "      <td>36.878889</td>\n",
       "      <td>26.175626</td>\n",
       "      <td>18</td>\n",
       "      <td>99.99</td>\n",
       "      <td>7.99</td>\n",
       "    </tr>\n",
       "    <tr>\n",
       "      <th>creator-3-in-1</th>\n",
       "      <td>42.767778</td>\n",
       "      <td>36.267885</td>\n",
       "      <td>18</td>\n",
       "      <td>119.99</td>\n",
       "      <td>9.99</td>\n",
       "    </tr>\n",
       "    <tr>\n",
       "      <th>creator-expert</th>\n",
       "      <td>210.578235</td>\n",
       "      <td>169.612448</td>\n",
       "      <td>17</td>\n",
       "      <td>679.99</td>\n",
       "      <td>49.99</td>\n",
       "    </tr>\n",
       "    <tr>\n",
       "      <th>dc</th>\n",
       "      <td>67.177500</td>\n",
       "      <td>74.739743</td>\n",
       "      <td>16</td>\n",
       "      <td>269.99</td>\n",
       "      <td>5.99</td>\n",
       "    </tr>\n",
       "    <tr>\n",
       "      <th>disney</th>\n",
       "      <td>64.378889</td>\n",
       "      <td>77.867262</td>\n",
       "      <td>18</td>\n",
       "      <td>349.99</td>\n",
       "      <td>9.99</td>\n",
       "    </tr>\n",
       "    <tr>\n",
       "      <th>mickey-mouse</th>\n",
       "      <td>27.240000</td>\n",
       "      <td>15.627045</td>\n",
       "      <td>12</td>\n",
       "      <td>54.99</td>\n",
       "      <td>5.99</td>\n",
       "    </tr>\n",
       "    <tr>\n",
       "      <th>lightyear</th>\n",
       "      <td>34.990000</td>\n",
       "      <td>15.000000</td>\n",
       "      <td>3</td>\n",
       "      <td>49.99</td>\n",
       "      <td>19.99</td>\n",
       "    </tr>\n",
       "    <tr>\n",
       "      <th>dots</th>\n",
       "      <td>24.872353</td>\n",
       "      <td>17.069279</td>\n",
       "      <td>17</td>\n",
       "      <td>64.99</td>\n",
       "      <td>3.99</td>\n",
       "    </tr>\n",
       "    <tr>\n",
       "      <th>duplo</th>\n",
       "      <td>45.872353</td>\n",
       "      <td>27.683213</td>\n",
       "      <td>17</td>\n",
       "      <td>129.99</td>\n",
       "      <td>19.99</td>\n",
       "    </tr>\n",
       "    <tr>\n",
       "      <th>friends</th>\n",
       "      <td>62.637059</td>\n",
       "      <td>40.547721</td>\n",
       "      <td>17</td>\n",
       "      <td>159.99</td>\n",
       "      <td>9.99</td>\n",
       "    </tr>\n",
       "    <tr>\n",
       "      <th>disney-frozen-2</th>\n",
       "      <td>40.573333</td>\n",
       "      <td>58.490805</td>\n",
       "      <td>12</td>\n",
       "      <td>219.99</td>\n",
       "      <td>5.99</td>\n",
       "    </tr>\n",
       "    <tr>\n",
       "      <th>harry-potter</th>\n",
       "      <td>110.284118</td>\n",
       "      <td>145.424708</td>\n",
       "      <td>17</td>\n",
       "      <td>499.99</td>\n",
       "      <td>24.99</td>\n",
       "    </tr>\n",
       "    <tr>\n",
       "      <th>ideas</th>\n",
       "      <td>189.401765</td>\n",
       "      <td>93.104148</td>\n",
       "      <td>17</td>\n",
       "      <td>399.99</td>\n",
       "      <td>69.99</td>\n",
       "    </tr>\n",
       "    <tr>\n",
       "      <th>jurassic-world</th>\n",
       "      <td>50.754706</td>\n",
       "      <td>34.672629</td>\n",
       "      <td>17</td>\n",
       "      <td>139.99</td>\n",
       "      <td>15.99</td>\n",
       "    </tr>\n",
       "    <tr>\n",
       "      <th>art</th>\n",
       "      <td>110.535455</td>\n",
       "      <td>62.948175</td>\n",
       "      <td>11</td>\n",
       "      <td>249.99</td>\n",
       "      <td>17.99</td>\n",
       "    </tr>\n",
       "    <tr>\n",
       "      <th>avatar</th>\n",
       "      <td>67.490000</td>\n",
       "      <td>40.568871</td>\n",
       "      <td>10</td>\n",
       "      <td>149.99</td>\n",
       "      <td>19.99</td>\n",
       "    </tr>\n",
       "    <tr>\n",
       "      <th>lego-education</th>\n",
       "      <td>200.450000</td>\n",
       "      <td>91.415998</td>\n",
       "      <td>14</td>\n",
       "      <td>399.95</td>\n",
       "      <td>69.95</td>\n",
       "    </tr>\n",
       "    <tr>\n",
       "      <th>lego-icons</th>\n",
       "      <td>244.107647</td>\n",
       "      <td>213.338312</td>\n",
       "      <td>17</td>\n",
       "      <td>679.99</td>\n",
       "      <td>49.99</td>\n",
       "    </tr>\n",
       "    <tr>\n",
       "      <th>super-mario</th>\n",
       "      <td>83.872353</td>\n",
       "      <td>84.305903</td>\n",
       "      <td>17</td>\n",
       "      <td>269.99</td>\n",
       "      <td>5.99</td>\n",
       "    </tr>\n",
       "    <tr>\n",
       "      <th>lord-of-the-rings</th>\n",
       "      <td>18.323333</td>\n",
       "      <td>2.886751</td>\n",
       "      <td>3</td>\n",
       "      <td>19.99</td>\n",
       "      <td>14.99</td>\n",
       "    </tr>\n",
       "    <tr>\n",
       "      <th>marvel</th>\n",
       "      <td>132.637059</td>\n",
       "      <td>153.735951</td>\n",
       "      <td>17</td>\n",
       "      <td>549.99</td>\n",
       "      <td>14.99</td>\n",
       "    </tr>\n",
       "    <tr>\n",
       "      <th>mindstorms</th>\n",
       "      <td>359.990000</td>\n",
       "      <td>NaN</td>\n",
       "      <td>1</td>\n",
       "      <td>359.99</td>\n",
       "      <td>359.99</td>\n",
       "    </tr>\n",
       "    <tr>\n",
       "      <th>minecraft</th>\n",
       "      <td>41.934444</td>\n",
       "      <td>30.637294</td>\n",
       "      <td>18</td>\n",
       "      <td>129.99</td>\n",
       "      <td>9.99</td>\n",
       "    </tr>\n",
       "    <tr>\n",
       "      <th>minifigures</th>\n",
       "      <td>18.207222</td>\n",
       "      <td>10.457184</td>\n",
       "      <td>18</td>\n",
       "      <td>34.99</td>\n",
       "      <td>4.99</td>\n",
       "    </tr>\n",
       "    <tr>\n",
       "      <th>minions</th>\n",
       "      <td>24.561429</td>\n",
       "      <td>16.561573</td>\n",
       "      <td>7</td>\n",
       "      <td>49.99</td>\n",
       "      <td>5.99</td>\n",
       "    </tr>\n",
       "    <tr>\n",
       "      <th>monkie-kid</th>\n",
       "      <td>105.284118</td>\n",
       "      <td>53.281991</td>\n",
       "      <td>17</td>\n",
       "      <td>189.99</td>\n",
       "      <td>19.99</td>\n",
       "    </tr>\n",
       "    <tr>\n",
       "      <th>ninjago</th>\n",
       "      <td>83.519412</td>\n",
       "      <td>81.581338</td>\n",
       "      <td>17</td>\n",
       "      <td>349.99</td>\n",
       "      <td>9.99</td>\n",
       "    </tr>\n",
       "    <tr>\n",
       "      <th>powered-up</th>\n",
       "      <td>97.677500</td>\n",
       "      <td>118.250987</td>\n",
       "      <td>16</td>\n",
       "      <td>399.99</td>\n",
       "      <td>9.99</td>\n",
       "    </tr>\n",
       "    <tr>\n",
       "      <th>serious-play</th>\n",
       "      <td>516.740000</td>\n",
       "      <td>347.657279</td>\n",
       "      <td>4</td>\n",
       "      <td>789.99</td>\n",
       "      <td>36.99</td>\n",
       "    </tr>\n",
       "    <tr>\n",
       "      <th>speed-champions</th>\n",
       "      <td>28.045556</td>\n",
       "      <td>10.591185</td>\n",
       "      <td>18</td>\n",
       "      <td>49.99</td>\n",
       "      <td>19.99</td>\n",
       "    </tr>\n",
       "    <tr>\n",
       "      <th>lego-spider-man</th>\n",
       "      <td>41.045556</td>\n",
       "      <td>78.691858</td>\n",
       "      <td>18</td>\n",
       "      <td>349.99</td>\n",
       "      <td>5.99</td>\n",
       "    </tr>\n",
       "    <tr>\n",
       "      <th>star-wars</th>\n",
       "      <td>214.990000</td>\n",
       "      <td>285.388989</td>\n",
       "      <td>17</td>\n",
       "      <td>849.99</td>\n",
       "      <td>9.99</td>\n",
       "    </tr>\n",
       "    <tr>\n",
       "      <th>technic</th>\n",
       "      <td>154.460588</td>\n",
       "      <td>132.310769</td>\n",
       "      <td>17</td>\n",
       "      <td>449.99</td>\n",
       "      <td>12.99</td>\n",
       "    </tr>\n",
       "    <tr>\n",
       "      <th>vidiyo</th>\n",
       "      <td>19.990000</td>\n",
       "      <td>0.000000</td>\n",
       "      <td>6</td>\n",
       "      <td>19.99</td>\n",
       "      <td>19.99</td>\n",
       "    </tr>\n",
       "  </tbody>\n",
       "</table>\n",
       "</div>"
      ],
      "text/plain": [
       "                         Mean      StdDev  Count     Max     Min\n",
       "architecture        82.212222   34.920545      9  129.99   39.99\n",
       "lego-batman-sets    63.813529   73.683644     17  269.99    5.99\n",
       "brickheadz          20.267778   10.357183     18   49.99    9.99\n",
       "brick-sketches      16.990000    0.000000      4   16.99   16.99\n",
       "city                66.754706   59.449064     17  199.99    9.99\n",
       "classic             36.878889   26.175626     18   99.99    7.99\n",
       "creator-3-in-1      42.767778   36.267885     18  119.99    9.99\n",
       "creator-expert     210.578235  169.612448     17  679.99   49.99\n",
       "dc                  67.177500   74.739743     16  269.99    5.99\n",
       "disney              64.378889   77.867262     18  349.99    9.99\n",
       "mickey-mouse        27.240000   15.627045     12   54.99    5.99\n",
       "lightyear           34.990000   15.000000      3   49.99   19.99\n",
       "dots                24.872353   17.069279     17   64.99    3.99\n",
       "duplo               45.872353   27.683213     17  129.99   19.99\n",
       "friends             62.637059   40.547721     17  159.99    9.99\n",
       "disney-frozen-2     40.573333   58.490805     12  219.99    5.99\n",
       "harry-potter       110.284118  145.424708     17  499.99   24.99\n",
       "ideas              189.401765   93.104148     17  399.99   69.99\n",
       "jurassic-world      50.754706   34.672629     17  139.99   15.99\n",
       "art                110.535455   62.948175     11  249.99   17.99\n",
       "avatar              67.490000   40.568871     10  149.99   19.99\n",
       "lego-education     200.450000   91.415998     14  399.95   69.95\n",
       "lego-icons         244.107647  213.338312     17  679.99   49.99\n",
       "super-mario         83.872353   84.305903     17  269.99    5.99\n",
       "lord-of-the-rings   18.323333    2.886751      3   19.99   14.99\n",
       "marvel             132.637059  153.735951     17  549.99   14.99\n",
       "mindstorms         359.990000         NaN      1  359.99  359.99\n",
       "minecraft           41.934444   30.637294     18  129.99    9.99\n",
       "minifigures         18.207222   10.457184     18   34.99    4.99\n",
       "minions             24.561429   16.561573      7   49.99    5.99\n",
       "monkie-kid         105.284118   53.281991     17  189.99   19.99\n",
       "ninjago             83.519412   81.581338     17  349.99    9.99\n",
       "powered-up          97.677500  118.250987     16  399.99    9.99\n",
       "serious-play       516.740000  347.657279      4  789.99   36.99\n",
       "speed-champions     28.045556   10.591185     18   49.99   19.99\n",
       "lego-spider-man     41.045556   78.691858     18  349.99    5.99\n",
       "star-wars          214.990000  285.388989     17  849.99    9.99\n",
       "technic            154.460588  132.310769     17  449.99   12.99\n",
       "vidiyo              19.990000    0.000000      6   19.99   19.99"
      ]
     },
     "execution_count": 67,
     "metadata": {},
     "output_type": "execute_result"
    }
   ],
   "source": [
    "import pandas as pd\n",
    "\n",
    "index = []\n",
    "values = []\n",
    "for price in prices:\n",
    "    index.append(price[\"theme\"])\n",
    "    values.append(pd.Series(price[\"prices\"]))\n",
    "\n",
    "df = pd.DataFrame({\"Mean\" : [val.mean() for val in values],\n",
    "                   \"StdDev\" : [val.std() for val in values],   \n",
    "                   \"Count\" : [len(val) for val in values],\n",
    "                   \"Max\" : [val.max() for val in values],   \n",
    "                   \"Min\" : [val.min() for val in values]\n",
    "                  }, index = index)\n",
    "df"
   ]
  },
  {
   "cell_type": "markdown",
   "metadata": {},
   "source": [
    "<ul><li>The StdDev column has a missing value, likely due to computing the standard deviation over a pd.Series with only one value. Let's replace this missing value with 0, since the variance of a series with a single value should be 0.</li></ul>"
   ]
  },
  {
   "cell_type": "code",
   "execution_count": null,
   "metadata": {
    "scrolled": true
   },
   "outputs": [],
   "source": [
    "df.StdDev = df.StdDev.fillna(0)"
   ]
  },
  {
   "cell_type": "markdown",
   "metadata": {},
   "source": [
    "<h1>Conclusion</h1><ul><li>Finally, we can settle the question we set out to answer. The most expensive Lego theme is...</li></ul>"
   ]
  },
  {
   "cell_type": "code",
   "execution_count": 69,
   "metadata": {},
   "outputs": [
    {
     "data": {
      "text/plain": [
       "'serious-play'"
      ]
     },
     "execution_count": 69,
     "metadata": {},
     "output_type": "execute_result"
    }
   ],
   "source": [
    "df.Mean.idxmax()"
   ]
  },
  {
   "cell_type": "markdown",
   "metadata": {},
   "source": [
    "<ul><li>Hmm, it's fairly surprising that the most expensive theme isn't a branded theme like Star Wars or Marvel.</li><li>Let's check the actual prices.</li></ul>"
   ]
  },
  {
   "cell_type": "code",
   "execution_count": 72,
   "metadata": {},
   "outputs": [
    {
     "data": {
      "text/plain": [
       "[36.99, 789.99, 754.99, 484.99]"
      ]
     },
     "execution_count": 72,
     "metadata": {},
     "output_type": "execute_result"
    }
   ],
   "source": [
    "for price in prices:\n",
    "    if price[\"theme\"] == 'serious-play':\n",
    "        seriousPlayPrices = price[\"prices\"]\n",
    "seriousPlayPrices"
   ]
  },
  {
   "cell_type": "markdown",
   "metadata": {},
   "source": [
    "<ul><li>We should definitely visualize the data we collected.</li></ul>"
   ]
  },
  {
   "cell_type": "code",
   "execution_count": 94,
   "metadata": {
    "scrolled": true
   },
   "outputs": [
    {
     "data": {
      "text/plain": [
       "<AxesSubplot: xlabel='Mean', ylabel='Theme'>"
      ]
     },
     "execution_count": 94,
     "metadata": {},
     "output_type": "execute_result"
    },
    {
     "data": {
      "image/png": "[encoded data removed]",
      "text/plain": [
       "<Figure size 500x1000 with 1 Axes>"
      ]
     },
     "metadata": {},
     "output_type": "display_data"
    }
   ],
   "source": [
    "import seaborn as sns\n",
    "from matplotlib import pyplot as plt\n",
    "df[\"StdErr\"] = df.StdDev / df.Count ** .5 # compute the standard error\n",
    "df.index.name = \"Theme\"\n",
    "plt.figure(figsize = (5,10))\n",
    "sns.barplot(data=df.reset_index(), x=\"Mean\", y=\"Theme\", xerr=df.StdErr)"
   ]
  },
  {
   "cell_type": "markdown",
   "metadata": {},
   "source": [
    "<ul><li>Let's do a worst-case analysis by adding the standard error of the prices to the mean prices, for all themes except the most expensive, but subtracting it for the most expensive.</li></ul>"
   ]
  },
  {
   "cell_type": "code",
   "execution_count": 97,
   "metadata": {},
   "outputs": [
    {
     "name": "stderr",
     "output_type": "stream",
     "text": [
      "C:\\Users\\vaheg\\AppData\\Local\\Temp\\ipykernel_16008\\3506247258.py:2: SettingWithCopyWarning: \n",
      "A value is trying to be set on a copy of a slice from a DataFrame\n",
      "\n",
      "See the caveats in the documentation: https://pandas.pydata.org/pandas-docs/stable/user_guide/indexing.html#returning-a-view-versus-a-copy\n",
      "  deltas[\"serious-play\"] *= -1\n"
     ]
    },
    {
     "data": {
      "text/plain": [
       "<AxesSubplot: xlabel='MeanMinMaxTest', ylabel='Theme'>"
      ]
     },
     "execution_count": 97,
     "metadata": {},
     "output_type": "execute_result"
    },
    {
     "data": {
      "image/png": "[encoded data removed]",
      "text/plain": [
       "<Figure size 500x1000 with 1 Axes>"
      ]
     },
     "metadata": {},
     "output_type": "display_data"
    }
   ],
   "source": [
    "deltas = df.StdErr\n",
    "deltas[\"serious-play\"] *= -1\n",
    "\n",
    "df[\"MeanMinMaxTest\"] = df.Mean + deltas\n",
    "plt.figure(figsize = (5,10))\n",
    "sns.barplot(data=df.reset_index(), x=\"MeanMinMaxTest\", y=\"Theme\")"
   ]
  },
  {
   "cell_type": "markdown",
   "metadata": {},
   "source": [
    "<ul><li>The most expensive theme gets beat out in this case.</li></ul>"
   ]
  }
 ],
 "metadata": {
  "kernelspec": {
   "display_name": "Python 3 (ipykernel)",
   "language": "python",
   "name": "python3"
  },
  "language_info": {
   "codemirror_mode": {
    "name": "ipython",
    "version": 3
   },
   "file_extension": ".py",
   "mimetype": "text/x-python",
   "name": "python",
   "nbconvert_exporter": "python",
   "pygments_lexer": "ipython3",
   "version": "3.10.9"
  },
  "vscode": {
   "interpreter": {
    "hash": "8478b0ac6f237a67e29f2a41c25ab333db042b8c2827651d6883b1caaa5c1134"
   }
  }
 },
 "nbformat": 4,
 "nbformat_minor": 2
}
