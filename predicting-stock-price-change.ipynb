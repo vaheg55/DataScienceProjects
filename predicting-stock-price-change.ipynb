{
 "cells": [
  {
   "cell_type": "markdown",
   "metadata": {},
   "source": [
    "<h1>Predicting Stock Price Change</h1>\n",
    "<h3>Goals for this project:</h3>\n",
    "<ul><li>Train a neural network that can predict the change in stock prices over the span of a day.</li><li>We will use data from <a href=\"https://www.kaggle.com/minatverma/nse-stocks-data\">https://www.kaggle.com/minatverma/nse-stocks-data</a>.</li></ul>"
   ]
  },
  {
   "cell_type": "code",
   "execution_count": 1,
   "metadata": {},
   "outputs": [],
   "source": [
    "from tensorflow import keras\n",
    "import matplotlib.pyplot as plt\n",
    "import pandas as pd"
   ]
  },
  {
   "cell_type": "markdown",
   "metadata": {},
   "source": [
    "<h1>Get the Data</h1>\n",
    "<ul><li>This dataset describes the national stock exchange (NSE) of India in 2016 and 2017.</li>\n",
    "<li>Let's load the data, check for dtypes, and check for missing values.</li></ul>"
   ]
  },
  {
   "cell_type": "code",
   "execution_count": 2,
   "metadata": {},
   "outputs": [
    {
     "data": {
      "text/html": [
       "<div>\n",
       "<style scoped>\n",
       "    .dataframe tbody tr th:only-of-type {\n",
       "        vertical-align: middle;\n",
       "    }\n",
       "\n",
       "    .dataframe tbody tr th {\n",
       "        vertical-align: top;\n",
       "    }\n",
       "\n",
       "    .dataframe thead th {\n",
       "        text-align: right;\n",
       "    }\n",
       "</style>\n",
       "<table border=\"1\" class=\"dataframe\">\n",
       "  <thead>\n",
       "    <tr style=\"text-align: right;\">\n",
       "      <th></th>\n",
       "      <th>SYMBOL</th>\n",
       "      <th>SERIES</th>\n",
       "      <th>OPEN</th>\n",
       "      <th>HIGH</th>\n",
       "      <th>LOW</th>\n",
       "      <th>CLOSE</th>\n",
       "      <th>LAST</th>\n",
       "      <th>PREVCLOSE</th>\n",
       "      <th>TOTTRDQTY</th>\n",
       "      <th>TOTTRDVAL</th>\n",
       "      <th>TIMESTAMP</th>\n",
       "      <th>TOTALTRADES</th>\n",
       "      <th>ISIN</th>\n",
       "    </tr>\n",
       "  </thead>\n",
       "  <tbody>\n",
       "    <tr>\n",
       "      <th>0</th>\n",
       "      <td>20MICRONS</td>\n",
       "      <td>EQ</td>\n",
       "      <td>37.80</td>\n",
       "      <td>37.80</td>\n",
       "      <td>36.15</td>\n",
       "      <td>36.85</td>\n",
       "      <td>37.40</td>\n",
       "      <td>37.05</td>\n",
       "      <td>27130</td>\n",
       "      <td>994657.90</td>\n",
       "      <td>2017-06-28</td>\n",
       "      <td>202</td>\n",
       "      <td>INE144J01027</td>\n",
       "    </tr>\n",
       "    <tr>\n",
       "      <th>1</th>\n",
       "      <td>3IINFOTECH</td>\n",
       "      <td>EQ</td>\n",
       "      <td>4.10</td>\n",
       "      <td>4.85</td>\n",
       "      <td>4.00</td>\n",
       "      <td>4.55</td>\n",
       "      <td>4.65</td>\n",
       "      <td>4.05</td>\n",
       "      <td>20157058</td>\n",
       "      <td>92148517.65</td>\n",
       "      <td>2017-06-28</td>\n",
       "      <td>7353</td>\n",
       "      <td>INE748C01020</td>\n",
       "    </tr>\n",
       "    <tr>\n",
       "      <th>2</th>\n",
       "      <td>3MINDIA</td>\n",
       "      <td>EQ</td>\n",
       "      <td>13425.15</td>\n",
       "      <td>13469.55</td>\n",
       "      <td>12920.00</td>\n",
       "      <td>13266.70</td>\n",
       "      <td>13300.00</td>\n",
       "      <td>13460.55</td>\n",
       "      <td>2290</td>\n",
       "      <td>30304923.35</td>\n",
       "      <td>2017-06-28</td>\n",
       "      <td>748</td>\n",
       "      <td>INE470A01017</td>\n",
       "    </tr>\n",
       "    <tr>\n",
       "      <th>3</th>\n",
       "      <td>63MOONS</td>\n",
       "      <td>EQ</td>\n",
       "      <td>61.00</td>\n",
       "      <td>61.90</td>\n",
       "      <td>60.35</td>\n",
       "      <td>61.00</td>\n",
       "      <td>61.10</td>\n",
       "      <td>60.65</td>\n",
       "      <td>27701</td>\n",
       "      <td>1689421.00</td>\n",
       "      <td>2017-06-28</td>\n",
       "      <td>437</td>\n",
       "      <td>INE111B01023</td>\n",
       "    </tr>\n",
       "    <tr>\n",
       "      <th>4</th>\n",
       "      <td>8KMILES</td>\n",
       "      <td>EQ</td>\n",
       "      <td>546.10</td>\n",
       "      <td>548.00</td>\n",
       "      <td>535.00</td>\n",
       "      <td>537.45</td>\n",
       "      <td>535.20</td>\n",
       "      <td>547.45</td>\n",
       "      <td>79722</td>\n",
       "      <td>43208620.05</td>\n",
       "      <td>2017-06-28</td>\n",
       "      <td>1866</td>\n",
       "      <td>INE650K01021</td>\n",
       "    </tr>\n",
       "    <tr>\n",
       "      <th>...</th>\n",
       "      <td>...</td>\n",
       "      <td>...</td>\n",
       "      <td>...</td>\n",
       "      <td>...</td>\n",
       "      <td>...</td>\n",
       "      <td>...</td>\n",
       "      <td>...</td>\n",
       "      <td>...</td>\n",
       "      <td>...</td>\n",
       "      <td>...</td>\n",
       "      <td>...</td>\n",
       "      <td>...</td>\n",
       "      <td>...</td>\n",
       "    </tr>\n",
       "    <tr>\n",
       "      <th>846399</th>\n",
       "      <td>ZOTA</td>\n",
       "      <td>SM</td>\n",
       "      <td>221.00</td>\n",
       "      <td>221.00</td>\n",
       "      <td>214.00</td>\n",
       "      <td>217.00</td>\n",
       "      <td>217.00</td>\n",
       "      <td>220.00</td>\n",
       "      <td>14000</td>\n",
       "      <td>3041550.00</td>\n",
       "      <td>2017-12-29</td>\n",
       "      <td>14</td>\n",
       "      <td>INE358U01012</td>\n",
       "    </tr>\n",
       "    <tr>\n",
       "      <th>846400</th>\n",
       "      <td>ZUARI</td>\n",
       "      <td>EQ</td>\n",
       "      <td>562.00</td>\n",
       "      <td>562.00</td>\n",
       "      <td>549.55</td>\n",
       "      <td>550.80</td>\n",
       "      <td>552.00</td>\n",
       "      <td>556.80</td>\n",
       "      <td>105184</td>\n",
       "      <td>58163061.60</td>\n",
       "      <td>2017-12-29</td>\n",
       "      <td>2218</td>\n",
       "      <td>INE840M01016</td>\n",
       "    </tr>\n",
       "    <tr>\n",
       "      <th>846401</th>\n",
       "      <td>ZUARIGLOB</td>\n",
       "      <td>EQ</td>\n",
       "      <td>255.50</td>\n",
       "      <td>258.40</td>\n",
       "      <td>252.50</td>\n",
       "      <td>253.25</td>\n",
       "      <td>253.00</td>\n",
       "      <td>254.10</td>\n",
       "      <td>90067</td>\n",
       "      <td>22968100.60</td>\n",
       "      <td>2017-12-29</td>\n",
       "      <td>2001</td>\n",
       "      <td>INE217A01012</td>\n",
       "    </tr>\n",
       "    <tr>\n",
       "      <th>846402</th>\n",
       "      <td>ZYDUSWELL</td>\n",
       "      <td>EQ</td>\n",
       "      <td>1038.00</td>\n",
       "      <td>1068.00</td>\n",
       "      <td>1033.00</td>\n",
       "      <td>1043.20</td>\n",
       "      <td>1035.00</td>\n",
       "      <td>1023.10</td>\n",
       "      <td>28601</td>\n",
       "      <td>29938840.10</td>\n",
       "      <td>2017-12-29</td>\n",
       "      <td>1401</td>\n",
       "      <td>INE768C01010</td>\n",
       "    </tr>\n",
       "    <tr>\n",
       "      <th>846403</th>\n",
       "      <td>ZYLOG</td>\n",
       "      <td>EQ</td>\n",
       "      <td>4.30</td>\n",
       "      <td>5.15</td>\n",
       "      <td>4.30</td>\n",
       "      <td>4.65</td>\n",
       "      <td>4.60</td>\n",
       "      <td>4.40</td>\n",
       "      <td>732051</td>\n",
       "      <td>3495213.70</td>\n",
       "      <td>2017-12-29</td>\n",
       "      <td>845</td>\n",
       "      <td>INE225I01026</td>\n",
       "    </tr>\n",
       "  </tbody>\n",
       "</table>\n",
       "<p>846404 rows × 13 columns</p>\n",
       "</div>"
      ],
      "text/plain": [
       "            SYMBOL SERIES      OPEN      HIGH       LOW     CLOSE      LAST  \\\n",
       "0        20MICRONS     EQ     37.80     37.80     36.15     36.85     37.40   \n",
       "1       3IINFOTECH     EQ      4.10      4.85      4.00      4.55      4.65   \n",
       "2          3MINDIA     EQ  13425.15  13469.55  12920.00  13266.70  13300.00   \n",
       "3          63MOONS     EQ     61.00     61.90     60.35     61.00     61.10   \n",
       "4          8KMILES     EQ    546.10    548.00    535.00    537.45    535.20   \n",
       "...            ...    ...       ...       ...       ...       ...       ...   \n",
       "846399        ZOTA     SM    221.00    221.00    214.00    217.00    217.00   \n",
       "846400       ZUARI     EQ    562.00    562.00    549.55    550.80    552.00   \n",
       "846401   ZUARIGLOB     EQ    255.50    258.40    252.50    253.25    253.00   \n",
       "846402   ZYDUSWELL     EQ   1038.00   1068.00   1033.00   1043.20   1035.00   \n",
       "846403       ZYLOG     EQ      4.30      5.15      4.30      4.65      4.60   \n",
       "\n",
       "        PREVCLOSE  TOTTRDQTY    TOTTRDVAL   TIMESTAMP  TOTALTRADES  \\\n",
       "0           37.05      27130    994657.90  2017-06-28          202   \n",
       "1            4.05   20157058  92148517.65  2017-06-28         7353   \n",
       "2        13460.55       2290  30304923.35  2017-06-28          748   \n",
       "3           60.65      27701   1689421.00  2017-06-28          437   \n",
       "4          547.45      79722  43208620.05  2017-06-28         1866   \n",
       "...           ...        ...          ...         ...          ...   \n",
       "846399     220.00      14000   3041550.00  2017-12-29           14   \n",
       "846400     556.80     105184  58163061.60  2017-12-29         2218   \n",
       "846401     254.10      90067  22968100.60  2017-12-29         2001   \n",
       "846402    1023.10      28601  29938840.10  2017-12-29         1401   \n",
       "846403       4.40     732051   3495213.70  2017-12-29          845   \n",
       "\n",
       "                ISIN  \n",
       "0       INE144J01027  \n",
       "1       INE748C01020  \n",
       "2       INE470A01017  \n",
       "3       INE111B01023  \n",
       "4       INE650K01021  \n",
       "...              ...  \n",
       "846399  INE358U01012  \n",
       "846400  INE840M01016  \n",
       "846401  INE217A01012  \n",
       "846402  INE768C01010  \n",
       "846403  INE225I01026  \n",
       "\n",
       "[846404 rows x 13 columns]"
      ]
     },
     "execution_count": 2,
     "metadata": {},
     "output_type": "execute_result"
    }
   ],
   "source": [
    "df = pd.read_csv('FINAL_FROM_DF.csv')\n",
    "df"
   ]
  },
  {
   "cell_type": "code",
   "execution_count": 3,
   "metadata": {},
   "outputs": [
    {
     "data": {
      "text/plain": [
       "(846404, 13)"
      ]
     },
     "execution_count": 3,
     "metadata": {},
     "output_type": "execute_result"
    }
   ],
   "source": [
    "df.shape"
   ]
  },
  {
   "cell_type": "code",
   "execution_count": 4,
   "metadata": {},
   "outputs": [
    {
     "data": {
      "text/plain": [
       "SYMBOL            0\n",
       "SERIES         2457\n",
       "OPEN              0\n",
       "HIGH              0\n",
       "LOW               0\n",
       "CLOSE             0\n",
       "LAST              0\n",
       "PREVCLOSE         0\n",
       "TOTTRDQTY         0\n",
       "TOTTRDVAL         0\n",
       "TIMESTAMP         0\n",
       "TOTALTRADES       0\n",
       "ISIN              0\n",
       "dtype: int64"
      ]
     },
     "execution_count": 4,
     "metadata": {},
     "output_type": "execute_result"
    }
   ],
   "source": [
    "df.isnull().sum()"
   ]
  },
  {
   "cell_type": "code",
   "execution_count": 5,
   "metadata": {},
   "outputs": [],
   "source": [
    "df = df.fillna('none')"
   ]
  },
  {
   "cell_type": "code",
   "execution_count": 6,
   "metadata": {
    "scrolled": true
   },
   "outputs": [
    {
     "data": {
      "text/plain": [
       "SYMBOL          object\n",
       "SERIES          object\n",
       "OPEN           float64\n",
       "HIGH           float64\n",
       "LOW            float64\n",
       "CLOSE          float64\n",
       "LAST           float64\n",
       "PREVCLOSE      float64\n",
       "TOTTRDQTY        int64\n",
       "TOTTRDVAL      float64\n",
       "TIMESTAMP       object\n",
       "TOTALTRADES      int64\n",
       "ISIN            object\n",
       "dtype: object"
      ]
     },
     "execution_count": 6,
     "metadata": {},
     "output_type": "execute_result"
    }
   ],
   "source": [
    "df.dtypes"
   ]
  },
  {
   "cell_type": "markdown",
   "metadata": {},
   "source": [
    "<ul><li>The data types look appropriate, since numerical values are already stored as integers and floats, and categorical values are stored as strings.</li><li>Let us make a new column that is the increase (or decrease) in the stock price over a day.</li><li>We will try to predict this change using the HIGH, LOW, LAST, PREVCLOSE, TOTTRDQTY, TOTTRDVAL, and TOTALTRADES columns.</li></ul>"
   ]
  },
  {
   "cell_type": "code",
   "execution_count": 5,
   "metadata": {},
   "outputs": [],
   "source": [
    "df['CHANGE'] = df.CLOSE - df.OPEN"
   ]
  },
  {
   "cell_type": "markdown",
   "metadata": {},
   "source": [
    "<h1>Train the Model</h1>\n",
    "<ul><li>We will handle our neural network using TensorFlow.</li><li>Let's add a few Dense layers, dropout layers for regularization, and an intermediate batch normalization layer to prevent exploding gradients, since our model will have quite a few dense layers.</li><li>We use the SELU activation function to further manage the size of the gradients.</li></ul>"
   ]
  },
  {
   "cell_type": "code",
   "execution_count": 7,
   "metadata": {},
   "outputs": [],
   "source": [
    "model = keras.models.Sequential([\n",
    "    keras.layers.Dense(units=100, activation='selu', input_shape=[7]),\n",
    "    keras.layers.Dropout(rate=0.3),\n",
    "    keras.layers.Dense(units=100, activation='selu'),\n",
    "    keras.layers.BatchNormalization(),\n",
    "    keras.layers.Dense(units=50, activation='selu'),\n",
    "    keras.layers.Dropout(rate=0.3),\n",
    "    keras.layers.Dense(units=25, activation='selu'),\n",
    "    keras.layers.Dense(units=1),\n",
    "])\n",
    "\n",
    "model.compile(optimizer = 'adam', loss = 'mse')"
   ]
  },
  {
   "cell_type": "markdown",
   "metadata": {},
   "source": [
    "<ul><li>We also need to make training and validation sets and rescale the input instances.</li></ul>"
   ]
  },
  {
   "cell_type": "code",
   "execution_count": 8,
   "metadata": {},
   "outputs": [],
   "source": [
    "df = df[['CHANGE', 'HIGH', 'LOW', 'LAST', 'PREVCLOSE', 'TOTTRDQTY', 'TOTTRDVAL', 'TOTALTRADES']]\n",
    "\n",
    "df_train = df.sample(frac = 0.8, random_state = 1) # train\n",
    "df_valid = df.drop(df_train.index) # valid\n",
    "\n",
    "max_train = df_train.max()\n",
    "min_train = df_train.min()\n",
    "df_train = (df_train - min_train) / (max_train - min_train) # min / max scaling\n",
    "\n",
    "max_valid = df_valid.max()\n",
    "min_valid = df_valid.min()\n",
    "df_valid = (df_valid - min_valid) / (max_valid - min_valid) # min / max scaling\n",
    "\n",
    "X_train = df_train.drop('CHANGE', axis=1) # remove the targets\n",
    "X_valid = df_valid.drop('CHANGE', axis=1)\n",
    "\n",
    "y_train = df_train['CHANGE'] # assign the targets\n",
    "y_valid = df_valid['CHANGE']"
   ]
  },
  {
   "cell_type": "markdown",
   "metadata": {},
   "source": [
    "<ul><li>We can use an early stopping callback to stop training the model once the training loss consistently decreases for a threshold number of epochs.</li></ul>"
   ]
  },
  {
   "cell_type": "code",
   "execution_count": 9,
   "metadata": {},
   "outputs": [],
   "source": [
    "from tensorflow.keras.callbacks import EarlyStopping\n",
    "\n",
    "early_stopping = EarlyStopping(\n",
    "    min_delta=0.001, # a change of this much constitutes a decrease in the loss\n",
    "    patience=20, # number of epochs to wait for\n",
    "    restore_best_weights=True,)\n",
    "\n",
    "history = model.fit(\n",
    "    X_train, y_train,\n",
    "    validation_data=(X_valid, y_valid),\n",
    "    batch_size=256,\n",
    "    epochs=50,\n",
    "    callbacks=[early_stopping],\n",
    "    verbose=0)"
   ]
  },
  {
   "cell_type": "markdown",
   "metadata": {},
   "source": [
    "<ul><li>Here are the training loss and the validation loss.</li></ul>"
   ]
  },
  {
   "cell_type": "code",
   "execution_count": 10,
   "metadata": {},
   "outputs": [
    {
     "data": {
      "text/plain": [
       "<Axes: >"
      ]
     },
     "execution_count": 10,
     "metadata": {},
     "output_type": "execute_result"
    },
    {
     "data": {
      "image/png": "[encoded data removed]",
      "text/plain": [
       "<Figure size 640x480 with 1 Axes>"
      ]
     },
     "metadata": {},
     "output_type": "display_data"
    }
   ],
   "source": [
    "pd.DataFrame(history.history).plot()"
   ]
  }
 ],
 "metadata": {
  "kernelspec": {
   "display_name": "Python 3 (ipykernel)",
   "language": "python",
   "name": "python3"
  },
  "language_info": {
   "codemirror_mode": {
    "name": "ipython",
    "version": 3
   },
   "file_extension": ".py",
   "mimetype": "text/x-python",
   "name": "python",
   "nbconvert_exporter": "python",
   "pygments_lexer": "ipython3",
   "version": "3.10.9"
  }
 },
 "nbformat": 4,
 "nbformat_minor": 4
}
